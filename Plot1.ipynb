{
 "cells": [
  {
   "cell_type": "markdown",
   "metadata": {},
   "source": [
    "# Exploratory Data Analysis - Part 1"
   ]
  },
  {
   "cell_type": "markdown",
   "metadata": {},
   "source": [
    "### Loading required Libraries"
   ]
  },
  {
   "cell_type": "code",
   "execution_count": 2,
   "metadata": {},
   "outputs": [],
   "source": [
    "library(data.table)\n",
    "library(readr)\n",
    "library(dplyr)\n",
    "library(ggplot2)\n",
    "library(quanteda)\n",
    "library(tm)\n",
    "library(RColorBrewer)\n",
    "library(wordcloud)\n",
    "library(openxlsx)\n",
    "library(scales)"
   ]
  },
  {
   "cell_type": "markdown",
   "metadata": {},
   "source": [
    "### Loading the data set"
   ]
  },
  {
   "cell_type": "code",
   "execution_count": 8,
   "metadata": {},
   "outputs": [
    {
     "name": "stderr",
     "output_type": "stream",
     "text": [
      "Parsed with column specification:\n",
      "cols(\n",
      "  complaint_id = col_integer(),\n",
      "  date_received = col_datetime(format = \"\"),\n",
      "  date_sent_to_company = col_datetime(format = \"\"),\n",
      "  company = col_character(),\n",
      "  product = col_character(),\n",
      "  sub_product = col_character(),\n",
      "  issue = col_character(),\n",
      "  submitted_via = col_character(),\n",
      "  company_public_response = col_character(),\n",
      "  state = col_character(),\n",
      "  zip_code = col_character(),\n",
      "  company_response = col_character(),\n",
      "  consumer_disputed = col_character(),\n",
      "  sub_issue = col_character(),\n",
      "  complaint_what_happened = col_character(),\n",
      "  consumer_consent_provided = col_character(),\n",
      "  timely = col_character(),\n",
      "  tags = col_character()\n",
      ")\n"
     ]
    },
    {
     "name": "stdout",
     "output_type": "stream",
     "text": [
      "|=================================================================| 100%  379 MB\n",
      "Observations: 831,000\n",
      "Variables: 18\n",
      "$ complaint_id              <int> 759217, 2141773, 2163100, 885638, 1027760...\n",
      "$ date_received             <dttm> 2014-03-12, 2016-10-01, 2016-10-17, 2014...\n",
      "$ date_sent_to_company      <dttm> 2014-03-17, 2016-10-05, 2016-10-20, 2014...\n",
      "$ company                   <chr> \"M&T BANK CORPORATION\", \"TRANSUNION INTER...\n",
      "$ product                   <chr> \"Mortgage\", \"Credit reporting\", \"Consumer...\n",
      "$ sub_product               <chr> \"Other mortgage\", NA, \"Vehicle loan\", NA,...\n",
      "$ issue                     <chr> \"Loan modification,collection,foreclosure...\n",
      "$ submitted_via             <chr> \"Referral\", \"Web\", \"Web\", \"Web\", \"Web\", \"...\n",
      "$ company_public_response   <chr> NA, \"Company has responded to the consume...\n",
      "$ state                     <chr> \"MI\", \"AL\", \"PA\", \"ID\", \"VA\", \"MN\", \"CA\",...\n",
      "$ zip_code                  <chr> \"48382\", \"352XX\", \"177XX\", \"83854\", \"2323...\n",
      "$ company_response          <chr> \"Closed with explanation\", \"Closed with e...\n",
      "$ consumer_disputed         <chr> \"No\", \"No\", \"No\", \"Yes\", \"Yes\", \"No\", \"No...\n",
      "$ sub_issue                 <chr> NA, \"Account status\", NA, NA, \"Frequent o...\n",
      "$ complaint_what_happened   <chr> NA, \"I have outdated information on my cr...\n",
      "$ consumer_consent_provided <chr> NA, \"Consent provided\", \"Consent provided...\n",
      "$ timely                    <chr> \"Yes\", \"Yes\", \"Yes\", \"Yes\", \"Yes\", \"Yes\",...\n",
      "$ tags                      <chr> NA, NA, \"Older American\", \"Older American...\n"
     ]
    }
   ],
   "source": [
    "data <- read_csv(\"cc.csv\", na = c(\"NA\", \"N/A\", NULL, \"\"), progress = TRUE)\n",
    "glimpse(data)"
   ]
  },
  {
   "cell_type": "markdown",
   "metadata": {},
   "source": [
    "### Cleaning and Munging data"
   ]
  },
  {
   "cell_type": "markdown",
   "metadata": {},
   "source": [
    "We find that a lot of variables belong to class factor but are in character format and hence, we convert them into factor format.\n",
    "Also, we need to find out the number of missing values in the data set. We do this with the help of sapply function which throws the number of missing values in each column of our data set"
   ]
  },
  {
   "cell_type": "code",
   "execution_count": 6,
   "metadata": {},
   "outputs": [
    {
     "data": {
      "text/html": [
       "<table>\n",
       "<thead><tr><th></th><th scope=col>Missing.Values</th></tr></thead>\n",
       "<tbody>\n",
       "\t<tr><th scope=row>complaint_id</th><td>     0</td></tr>\n",
       "\t<tr><th scope=row>date_received</th><td>     0</td></tr>\n",
       "\t<tr><th scope=row>date_sent_to_company</th><td>     0</td></tr>\n",
       "\t<tr><th scope=row>company</th><td>     0</td></tr>\n",
       "\t<tr><th scope=row>product</th><td>     0</td></tr>\n",
       "\t<tr><th scope=row>sub_product</th><td>232556</td></tr>\n",
       "\t<tr><th scope=row>issue</th><td>     0</td></tr>\n",
       "\t<tr><th scope=row>submitted_via</th><td>     0</td></tr>\n",
       "\t<tr><th scope=row>company_public_response</th><td>597946</td></tr>\n",
       "\t<tr><th scope=row>state</th><td>  7233</td></tr>\n",
       "\t<tr><th scope=row>zip_code</th><td>  7378</td></tr>\n",
       "\t<tr><th scope=row>company_response</th><td>     1</td></tr>\n",
       "\t<tr><th scope=row>consumer_disputed</th><td> 74900</td></tr>\n",
       "\t<tr><th scope=row>sub_issue</th><td>460275</td></tr>\n",
       "\t<tr><th scope=row>complaint_what_happened</th><td>641504</td></tr>\n",
       "\t<tr><th scope=row>consumer_consent_provided</th><td>482415</td></tr>\n",
       "\t<tr><th scope=row>timely</th><td>     0</td></tr>\n",
       "\t<tr><th scope=row>tags</th><td>716076</td></tr>\n",
       "</tbody>\n",
       "</table>\n"
      ],
      "text/latex": [
       "\\begin{tabular}{r|l}\n",
       "  & Missing.Values\\\\\n",
       "\\hline\n",
       "\tcomplaint\\_id &      0\\\\\n",
       "\tdate\\_received &      0\\\\\n",
       "\tdate\\_sent\\_to\\_company &      0\\\\\n",
       "\tcompany &      0\\\\\n",
       "\tproduct &      0\\\\\n",
       "\tsub\\_product & 232556\\\\\n",
       "\tissue &      0\\\\\n",
       "\tsubmitted\\_via &      0\\\\\n",
       "\tcompany\\_public\\_response & 597946\\\\\n",
       "\tstate &   7233\\\\\n",
       "\tzip\\_code &   7378\\\\\n",
       "\tcompany\\_response &      1\\\\\n",
       "\tconsumer\\_disputed &  74900\\\\\n",
       "\tsub\\_issue & 460275\\\\\n",
       "\tcomplaint\\_what\\_happened & 641504\\\\\n",
       "\tconsumer\\_consent\\_provided & 482415\\\\\n",
       "\ttimely &      0\\\\\n",
       "\ttags & 716076\\\\\n",
       "\\end{tabular}\n"
      ],
      "text/markdown": [
       "\n",
       "| <!--/--> | Missing.Values | \n",
       "|---|---|---|---|---|---|---|---|---|---|---|---|---|---|---|---|---|---|\n",
       "| complaint_id |      0 | \n",
       "| date_received |      0 | \n",
       "| date_sent_to_company |      0 | \n",
       "| company |      0 | \n",
       "| product |      0 | \n",
       "| sub_product | 232556 | \n",
       "| issue |      0 | \n",
       "| submitted_via |      0 | \n",
       "| company_public_response | 597946 | \n",
       "| state |   7233 | \n",
       "| zip_code |   7378 | \n",
       "| company_response |      1 | \n",
       "| consumer_disputed |  74900 | \n",
       "| sub_issue | 460275 | \n",
       "| complaint_what_happened | 641504 | \n",
       "| consumer_consent_provided | 482415 | \n",
       "| timely |      0 | \n",
       "| tags | 716076 | \n",
       "\n",
       "\n"
      ],
      "text/plain": [
       "                          Missing.Values\n",
       "complaint_id                   0        \n",
       "date_received                  0        \n",
       "date_sent_to_company           0        \n",
       "company                        0        \n",
       "product                        0        \n",
       "sub_product               232556        \n",
       "issue                          0        \n",
       "submitted_via                  0        \n",
       "company_public_response   597946        \n",
       "state                       7233        \n",
       "zip_code                    7378        \n",
       "company_response               1        \n",
       "consumer_disputed          74900        \n",
       "sub_issue                 460275        \n",
       "complaint_what_happened   641504        \n",
       "consumer_consent_provided 482415        \n",
       "timely                         0        \n",
       "tags                      716076        "
      ]
     },
     "metadata": {},
     "output_type": "display_data"
    }
   ],
   "source": [
    "data.frame(Missing.Values = sapply(data, function(x) sum(is.na(x))))\n",
    "data$company <- as.factor(data$company)\n",
    "data$product <- as.factor(data$product)\n",
    "data$sub_product <- as.factor(data$sub_product)\n",
    "data$issue <- as.factor(data$issue)\n",
    "data$company_public_response <- as.factor(data$company_public_response)\n",
    "data$state <- as.factor(data$state)\n",
    "data$company_response <- as.factor(data$company_response)\n",
    "data$consumer_disputed <- as.factor(data$consumer_disputed)"
   ]
  },
  {
   "cell_type": "code",
   "execution_count": null,
   "metadata": {},
   "outputs": [],
   "source": []
  }
 ],
 "metadata": {
  "kernelspec": {
   "display_name": "R",
   "language": "R",
   "name": "ir"
  },
  "language_info": {
   "codemirror_mode": "r",
   "file_extension": ".r",
   "mimetype": "text/x-r-source",
   "name": "R",
   "pygments_lexer": "r",
   "version": "3.4.3"
  }
 },
 "nbformat": 4,
 "nbformat_minor": 2
}
